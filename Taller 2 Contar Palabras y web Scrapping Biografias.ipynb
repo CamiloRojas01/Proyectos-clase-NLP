{
 "cells": [
  {
   "cell_type": "code",
   "execution_count": null,
   "metadata": {},
   "outputs": [],
   "source": [
    "#PUNTO 1 \" Contar palabras de los poemas\""
   ]
  },
  {
   "cell_type": "code",
   "execution_count": 46,
   "metadata": {},
   "outputs": [],
   "source": [
    "num_words = 0\n",
    "num_charts = 0\n",
    "poema1 = \"archivos/A un general (Julio Cortázar).txt\"\n",
    "with open(poema1, 'r') as archivo: \n",
    "    for line in archivo:\n",
    "        word = line.split()\n",
    "        num_words += len(word)\n",
    "        num_charts += len(line)\n",
    "        \n"
   ]
  },
  {
   "cell_type": "code",
   "execution_count": 47,
   "metadata": {},
   "outputs": [
    {
     "name": "stdout",
     "output_type": "stream",
     "text": [
      "252\n"
     ]
    }
   ],
   "source": [
    "print(num_charts)"
   ]
  },
  {
   "cell_type": "code",
   "execution_count": 48,
   "metadata": {},
   "outputs": [
    {
     "name": "stdout",
     "output_type": "stream",
     "text": [
      "46\n"
     ]
    }
   ],
   "source": [
    "print(num_words)"
   ]
  },
  {
   "cell_type": "code",
   "execution_count": 49,
   "metadata": {},
   "outputs": [],
   "source": [
    "num_words1 = 0\n",
    "num_charts1 = 0\n",
    "poema2 = \"archivos/Aquí (Octavio Paz).txt\"\n",
    "with open(poema2, 'r') as archivo: \n",
    "    for line in archivo:\n",
    "        word1 = line.split()\n",
    "        num_words1 += len(word)\n",
    "        num_charts1 += len(line)"
   ]
  },
  {
   "cell_type": "code",
   "execution_count": 50,
   "metadata": {},
   "outputs": [
    {
     "name": "stdout",
     "output_type": "stream",
     "text": [
      "125\n"
     ]
    }
   ],
   "source": [
    "print(num_charts1)"
   ]
  },
  {
   "cell_type": "code",
   "execution_count": 51,
   "metadata": {},
   "outputs": [
    {
     "name": "stdout",
     "output_type": "stream",
     "text": [
      "75\n"
     ]
    }
   ],
   "source": [
    "print(num_words1)"
   ]
  },
  {
   "cell_type": "code",
   "execution_count": 52,
   "metadata": {},
   "outputs": [],
   "source": [
    "num_words2 = 0\n",
    "num_charts2 = 0\n",
    "poema3 = \"archivos/Síndrome (Mario Benedetti).txt\"\n",
    "with open(poema3, 'r') as archivo: \n",
    "    for line in archivo:\n",
    "        word2 = line.split()\n",
    "        num_words2 += len(word)\n",
    "        num_charts2 += len(line)"
   ]
  },
  {
   "cell_type": "code",
   "execution_count": 53,
   "metadata": {},
   "outputs": [
    {
     "name": "stdout",
     "output_type": "stream",
     "text": [
      "304\n"
     ]
    }
   ],
   "source": [
    "print(num_charts2)"
   ]
  },
  {
   "cell_type": "code",
   "execution_count": 54,
   "metadata": {},
   "outputs": [
    {
     "name": "stdout",
     "output_type": "stream",
     "text": [
      "75\n"
     ]
    }
   ],
   "source": [
    "print(num_words2)"
   ]
  },
  {
   "cell_type": "code",
   "execution_count": 56,
   "metadata": {},
   "outputs": [
    {
     "name": "stdout",
     "output_type": "stream",
     "text": [
      "Los poemas que mas palabras tienen son el poema   archivos/Aquí (Octavio Paz).txt y el poema  archivos/Síndrome (Mario Benedetti).txt\n"
     ]
    }
   ],
   "source": [
    "print('Los poemas que mas palabras tienen son el poema  ', poema2, 'y el poema ', poema3)"
   ]
  },
  {
   "cell_type": "code",
   "execution_count": null,
   "metadata": {},
   "outputs": [],
   "source": [
    "##PUNTO 2\" WEB SCRAPPING\""
   ]
  },
  {
   "cell_type": "code",
   "execution_count": 126,
   "metadata": {},
   "outputs": [
    {
     "name": "stdout",
     "output_type": "stream",
     "text": [
      "Requirement already satisfied: requests in c:\\users\\user\\anaconda3\\lib\\site-packages (2.22.0)\n",
      "Requirement already satisfied: urllib3!=1.25.0,!=1.25.1,<1.26,>=1.21.1 in c:\\users\\user\\anaconda3\\lib\\site-packages (from requests) (1.25.8)\n",
      "Requirement already satisfied: certifi>=2017.4.17 in c:\\users\\user\\anaconda3\\lib\\site-packages (from requests) (2019.11.28)\n",
      "Requirement already satisfied: idna<2.9,>=2.5 in c:\\users\\user\\anaconda3\\lib\\site-packages (from requests) (2.8)\n",
      "Requirement already satisfied: chardet<3.1.0,>=3.0.2 in c:\\users\\user\\anaconda3\\lib\\site-packages (from requests) (3.0.4)\n",
      "Note: you may need to restart the kernel to use updated packages.\n"
     ]
    }
   ],
   "source": [
    "pip install requests"
   ]
  },
  {
   "cell_type": "code",
   "execution_count": 146,
   "metadata": {},
   "outputs": [],
   "source": [
    "import urllib.request\n",
    "import bs4 as bs\n",
    "import pandas as pd\n",
    "import requests\n",
    "from bs4 import BeautifulSoup"
   ]
  },
  {
   "cell_type": "code",
   "execution_count": 136,
   "metadata": {},
   "outputs": [],
   "source": [
    "link = \"https://es.wikipedia.org/wiki/Marie_Curie\""
   ]
  },
  {
   "cell_type": "code",
   "execution_count": 138,
   "metadata": {},
   "outputs": [],
   "source": [
    "page = requests.get(link)"
   ]
  },
  {
   "cell_type": "code",
   "execution_count": 152,
   "metadata": {},
   "outputs": [],
   "source": [
    "soup = BeautifulSoup(page.content, 'html.parser')"
   ]
  },
  {
   "cell_type": "code",
   "execution_count": 153,
   "metadata": {},
   "outputs": [
    {
     "name": "stdout",
     "output_type": "stream",
     "text": [
      "Marie Curie - Wikipedia, la enciclopedia libre\n"
     ]
    }
   ],
   "source": [
    "print(soup.title.text)\n"
   ]
  },
  {
   "cell_type": "code",
   "execution_count": 154,
   "metadata": {},
   "outputs": [
    {
     "data": {
      "text/plain": [
       "[<h1 class=\"firstHeading\" id=\"firstHeading\" lang=\"es\">Marie Curie</h1>]"
      ]
     },
     "execution_count": 154,
     "metadata": {},
     "output_type": "execute_result"
    }
   ],
   "source": [
    "#Titulo\n",
    "Nombre = soup.find_all('h1', class_= 'firstHeading')\n",
    "Nombre"
   ]
  },
  {
   "cell_type": "code",
   "execution_count": 155,
   "metadata": {},
   "outputs": [
    {
     "name": "stdout",
     "output_type": "stream",
     "text": [
      "['Marie Curie']\n"
     ]
    }
   ],
   "source": [
    "Titulo = list()\n",
    "\n",
    "for i in Nombre:\n",
    "    Titulo.append(i.text)\n",
    "print(Titulo)"
   ]
  },
  {
   "cell_type": "code",
   "execution_count": 128,
   "metadata": {},
   "outputs": [
    {
     "data": {
      "text/plain": [
       "[<a class=\"mw-disambig\" href=\"/wiki/Curie\" title=\"Curie\">Curie</a>,\n",
       " <a class=\"image\" href=\"/wiki/Archivo:Marie_Curie,_portrait,_1900.jpg\"><img alt=\"Marie Curie, portrait, 1900.jpg\" data-file-height=\"894\" data-file-width=\"609\" decoding=\"async\" height=\"323\" src=\"//upload.wikimedia.org/wikipedia/commons/thumb/d/db/Marie_Curie%2C_portrait%2C_1900.jpg/220px-Marie_Curie%2C_portrait%2C_1900.jpg\" srcset=\"//upload.wikimedia.org/wikipedia/commons/thumb/d/db/Marie_Curie%2C_portrait%2C_1900.jpg/330px-Marie_Curie%2C_portrait%2C_1900.jpg 1.5x, //upload.wikimedia.org/wikipedia/commons/thumb/d/db/Marie_Curie%2C_portrait%2C_1900.jpg/440px-Marie_Curie%2C_portrait%2C_1900.jpg 2x\" width=\"220\"/></a>,\n",
       " <a href=\"/wiki/7_de_noviembre\" title=\"7 de noviembre\">7 de noviembre</a>,\n",
       " <a href=\"/wiki/1867\" title=\"1867\">1867</a>,\n",
       " <a href=\"/wiki/Varsovia\" title=\"Varsovia\">Varsovia</a>,\n",
       " <a href=\"/wiki/Zarato_de_Polonia\" title=\"Zarato de Polonia\">Zarato de Polonia</a>,\n",
       " <a href=\"/wiki/4_de_julio\" title=\"4 de julio\">4 de julio</a>,\n",
       " <a href=\"/wiki/1934\" title=\"1934\">1934</a>,\n",
       " <a href=\"/wiki/Passy_(Alta_Saboya)\" title=\"Passy (Alta Saboya)\">Passy</a>,\n",
       " <a href=\"/wiki/Tercera_Rep%C3%BAblica_Francesa\" title=\"Tercera República Francesa\">Francia</a>,\n",
       " <a href=\"/wiki/Anemia_apl%C3%A1sica\" title=\"Anemia aplásica\">Anemia aplásica</a>,\n",
       " <a href=\"https://www.wikidata.org/wiki/Q7186?uselang=es#P509\" title=\"Ver y modificar los datos en Wikidata\"><img alt=\"Ver y modificar los datos en Wikidata\" data-file-height=\"600\" data-file-width=\"600\" decoding=\"async\" height=\"10\" src=\"//upload.wikimedia.org/wikipedia/commons/thumb/7/73/Blue_pencil.svg/10px-Blue_pencil.svg.png\" srcset=\"//upload.wikimedia.org/wikipedia/commons/thumb/7/73/Blue_pencil.svg/15px-Blue_pencil.svg.png 1.5x, //upload.wikimedia.org/wikipedia/commons/thumb/7/73/Blue_pencil.svg/20px-Blue_pencil.svg.png 2x\" style=\"vertical-align: baseline\" width=\"10\"/></a>,\n",
       " <a href=\"/wiki/Pante%C3%B3n_de_Par%C3%ADs\" title=\"Panteón de París\">Panteón de París</a>,\n",
       " <a href=\"https://www.wikidata.org/wiki/Q7186?uselang=es#P119\" title=\"Ver y modificar los datos en Wikidata\"><img alt=\"Ver y modificar los datos en Wikidata\" data-file-height=\"600\" data-file-width=\"600\" decoding=\"async\" height=\"10\" src=\"//upload.wikimedia.org/wikipedia/commons/thumb/7/73/Blue_pencil.svg/10px-Blue_pencil.svg.png\" srcset=\"//upload.wikimedia.org/wikipedia/commons/thumb/7/73/Blue_pencil.svg/15px-Blue_pencil.svg.png 1.5x, //upload.wikimedia.org/wikipedia/commons/thumb/7/73/Blue_pencil.svg/20px-Blue_pencil.svg.png 2x\" style=\"vertical-align: baseline\" width=\"10\"/></a>]"
      ]
     },
     "execution_count": 128,
     "metadata": {},
     "output_type": "execute_result"
    }
   ],
   "source": [
    "parrafo = soup.find('div', class_= 'mw-parser-output').find_all('a', href =True)[0:14]\n",
    "parrafo\n"
   ]
  },
  {
   "cell_type": "code",
   "execution_count": 156,
   "metadata": {},
   "outputs": [
    {
     "name": "stdout",
     "output_type": "stream",
     "text": [
      "['Curie', '', '7 de noviembre', '1867', 'Varsovia', 'Zarato de Polonia', '4 de julio', '1934', 'Passy', 'Francia', 'Anemia aplásica', '', 'Panteón de París', '']\n"
     ]
    }
   ],
   "source": [
    "parrafo1 = list()\n",
    "\n",
    "for i in parrafo:\n",
    "    parrafo1.append(i.text)\n",
    "print(parrafo1)"
   ]
  },
  {
   "cell_type": "code",
   "execution_count": 158,
   "metadata": {},
   "outputs": [],
   "source": [
    "link2 = \"https://es.wikipedia.org/wiki/Carlos_Valderrama\"\n",
    "page2 = requests.get(link2)\n",
    "soup2 = BeautifulSoup(page2.content, 'html.parser')"
   ]
  },
  {
   "cell_type": "code",
   "execution_count": 160,
   "metadata": {},
   "outputs": [
    {
     "name": "stdout",
     "output_type": "stream",
     "text": [
      "Carlos Valderrama - Wikipedia, la enciclopedia libre\n"
     ]
    }
   ],
   "source": [
    "print(soup2.title.text)"
   ]
  },
  {
   "cell_type": "code",
   "execution_count": 161,
   "metadata": {},
   "outputs": [
    {
     "name": "stdout",
     "output_type": "stream",
     "text": [
      "['Carlos Valderrama']\n"
     ]
    }
   ],
   "source": [
    "#Titulo\n",
    "Nombre2 = soup2.find_all('h1', class_= 'firstHeading')\n",
    "Nombre2\n",
    "\n",
    "Titulo2 = list()\n",
    "\n",
    "for i in Nombre2:\n",
    "    Titulo2.append(i.text)\n",
    "print(Titulo2)"
   ]
  },
  {
   "cell_type": "code",
   "execution_count": 167,
   "metadata": {},
   "outputs": [
    {
     "name": "stdout",
     "output_type": "stream",
     "text": [
      "['Carlos Valderrama (desambiguación)', '', '[1]', 'Colombia', 'Colombiano', 'm', 'ft', 'in', 'Fútbol', '1980', 'Unión Magdalena', 'Mediocampista', '2002', 'Colorado Rapids', 'Colombia', 'Dorsal(es)', 'editar datos en Wikidata', 'Santa Marta', 'Magdalena', 'futbolista', 'colombiano', 'fútbol', 'volante', 'Italia 1990', 'Estados Unidos 1994', 'Francia 1998', 'FIFA 100', 'Pelé', 'IFFHS', '2004', '[2]', 'Atlético Junior', 'años 1980', 'años 1990', '[3]', 'René Higuita', 'Leonel Álvarez', 'Arnoldo Iguarán', 'Adolfo Valencia', 'Albeiro Usuriaga', 'Iván René Valenciano', 'Freddy Rincón', 'Faustino Asprilla', 'Salón de la Fama del Fútbol', 'Pachuca', 'México', '[4]', '[5]', '1 Biografía[6]\\u200b', '2 Trayectoria']\n"
     ]
    }
   ],
   "source": [
    "parrafo2 = soup2.find('div', class_= 'mw-parser-output').find_all('a', href =True)[0:50]\n",
    "parrafo2\n",
    "\n",
    "parrafo3 = list()\n",
    "\n",
    "for i in parrafo2:\n",
    "    parrafo3.append(i.text)\n",
    "print(parrafo3)"
   ]
  },
  {
   "cell_type": "code",
   "execution_count": 169,
   "metadata": {},
   "outputs": [],
   "source": [
    "link3 = \"https://es.wikipedia.org/wiki/Freddie_Mercury\"\n",
    "page3 = requests.get(link3)\n",
    "soup3 = BeautifulSoup(page3.content, 'html.parser')"
   ]
  },
  {
   "cell_type": "code",
   "execution_count": 170,
   "metadata": {},
   "outputs": [
    {
     "name": "stdout",
     "output_type": "stream",
     "text": [
      "Freddie Mercury - Wikipedia, la enciclopedia libre\n"
     ]
    }
   ],
   "source": [
    "print(soup3.title.text)"
   ]
  },
  {
   "cell_type": "code",
   "execution_count": 171,
   "metadata": {},
   "outputs": [
    {
     "name": "stdout",
     "output_type": "stream",
     "text": [
      "['Freddie Mercury']\n"
     ]
    }
   ],
   "source": [
    "#Titulo\n",
    "Nombre3 = soup3.find_all('h1', class_= 'firstHeading')\n",
    "Nombre3\n",
    "\n",
    "Titulo3 = list()\n",
    "\n",
    "for i in Nombre3:\n",
    "    Titulo3.append(i.text)\n",
    "print(Titulo3)"
   ]
  },
  {
   "cell_type": "code",
   "execution_count": 172,
   "metadata": {},
   "outputs": [
    {
     "name": "stdout",
     "output_type": "stream",
     "text": [
      "['', '5 de septiembre', '1946', 'Stone Town', 'Zanzíbar', '24 de noviembre', '1991', 'Londres', 'Inglaterra', 'Reino Unido', 'Bronconeumonía', '', '', 'Británica', 'Inglés', '', 'Zoroastrismo', '', '', '', '1970', '1976', '1985', '1991', 'Diseño gráfico', '', 'Cantante', 'compositor', 'pianista', 'diseñador gráfico', '[1]', 'músico', '1969', '1991', '', 'Rock', 'hard rock', 'pop rock', 'glam rock', 'ópera rock', 'art rock', 'ópera', 'Voz', 'teclados', 'Columbia', 'Polydor', 'EMI', 'Parlophone', 'Hollywood Records', 'Bohemian Rhapsody']\n"
     ]
    }
   ],
   "source": [
    "parrafo3 = soup3.find('div', class_= 'mw-parser-output').find_all('a', href =True)[0:50]\n",
    "parrafo3\n",
    "\n",
    "parrafo4 = list()\n",
    "\n",
    "for i in parrafo3:\n",
    "    parrafo4.append(i.text)\n",
    "print(parrafo4)"
   ]
  },
  {
   "cell_type": "code",
   "execution_count": 175,
   "metadata": {},
   "outputs": [
    {
     "name": "stdout",
     "output_type": "stream",
     "text": [
      "John Lennon - Wikipedia, la enciclopedia libre\n",
      "['John Lennon']\n",
      "['Lennon (desambiguación)', '', 'Encamada por la paz de John y Yoko', 'Liverpool', 'Reino Unido', 'Nueva York', 'Estados Unidos', 'Asesinato por arma de fuego', 'Ver más detalles', 'Liverpool', 'Nueva York', '251 Menlove Avenue', '', 'Británica', 'Ateísmo', 'católico no practicante', '', 'Alfred Lennon', 'Julia Lennon', 'Cynthia Powell', 'Yoko Ono', 'May Pang', 'Julian Lennon', 'Sean Lennon', '', 'Donovan', '', 'Artista', 'activista', 'productor discográfico', 'cantautor', 'compositor', 'músico', 'actor', 'escritor', 'dibujante', 'Rock', 'rock and roll', 'rock psicodélico', 'folk rock', 'skiffle', 'pop rock', 'pop', 'rock experimental', 'art rock', 'hard rock', 'rock ácido', 'Voz', 'Guitarra', 'Armónica']\n"
     ]
    }
   ],
   "source": [
    "link4 = \"https://es.wikipedia.org/wiki/John_Lennon\"\n",
    "page4 = requests.get(link4)\n",
    "soup4 = BeautifulSoup(page4.content, 'html.parser')\n",
    "print(soup4.title.text)\n",
    "\n",
    "#Titulo\n",
    "Nombre4 = soup4.find_all('h1', class_= 'firstHeading')\n",
    "Nombre4\n",
    "\n",
    "Titulo4 = list()\n",
    "\n",
    "for i in Nombre4:\n",
    "    Titulo4.append(i.text)\n",
    "print(Titulo4)\n",
    "\n",
    "\n",
    "parrafo4 = soup4.find('div', class_= 'mw-parser-output').find_all('a', href =True)[0:50]\n",
    "parrafo4\n",
    "\n",
    "parrafo5 = list()\n",
    "\n",
    "for i in parrafo4:\n",
    "    parrafo5.append(i.text)\n",
    "print(parrafo5)"
   ]
  },
  {
   "cell_type": "code",
   "execution_count": 178,
   "metadata": {},
   "outputs": [
    {
     "name": "stdout",
     "output_type": "stream",
     "text": [
      "Gustavo Cerati - Wikipedia, la enciclopedia libre\n",
      "['Gustavo Cerati']\n",
      "['', 'Ahí vamos', 'Buenos Aires', 'Buenos Aires', 'Argentina', 'Buenos Aires', 'Argentina', 'Paro cardiorrespiratorio', 'Cementerio de la Chacarita', 'argentina', 'Cecilia Amenábar', 'Cantante', 'compositor', 'guitarrista', 'productor musical', 'Rock', '[1]', 'pop rock', 'rock alternativo', 'rock electrónico', 'art rock', 'hard rock', 'rock sinfónico', 'dream pop', '[1]', 'shoegaze', 'rock experimental', 'funk', 'new wave', 'post-punk', 'neopsicodelia', 'Voz', 'guitarra', 'bajo', 'sintetizador', 'sampler', 'teclado', 'armónica', '[2]', 'Tenor dramático', '', 'Sony Music', 'Sony BMG', '', 'www.cerati.com', '', 'editar datos en Wikidata', 'Buenos Aires', '11 de agosto', '1959']\n"
     ]
    }
   ],
   "source": [
    "link5 = \"https://es.wikipedia.org/wiki/Gustavo_Cerati\"\n",
    "page5 = requests.get(link5)\n",
    "soup5 = BeautifulSoup(page5.content, 'html.parser')\n",
    "print(soup5.title.text)\n",
    "\n",
    "#Titulo\n",
    "Nombre5 = soup5.find_all('h1', class_= 'firstHeading')\n",
    "Nombre5\n",
    "\n",
    "Titulo5 = list()\n",
    "\n",
    "for i in Nombre5:\n",
    "    Titulo5.append(i.text)\n",
    "print(Titulo5)\n",
    "\n",
    "\n",
    "parrafo5 = soup5.find('div', class_= 'mw-parser-output').find_all('a', href =True)[0:50]\n",
    "parrafo5\n",
    "\n",
    "parrafo6 = list()\n",
    "\n",
    "for i in parrafo5:\n",
    "    parrafo6.append(i.text)\n",
    "print(parrafo6)"
   ]
  },
  {
   "cell_type": "code",
   "execution_count": 180,
   "metadata": {},
   "outputs": [
    {
     "name": "stdout",
     "output_type": "stream",
     "text": [
      "Michael Jackson - Wikipedia, la enciclopedia libre\n",
      "['Michael Jackson']\n",
      "['Michael Jackson (desambiguación)', '', 'Estadio Ernst Happel', 'Viena', 'Gary', 'Indiana', 'Estados Unidos', 'Los Ángeles', 'California', 'Estados Unidos', 'Infarto agudo de miocardio', 'Forest Lawn Memorial Park', '', 'Rancho Neverland', '', 'Estadounidense', 'Inglés estadounidense', '', 'Testigos de Jehová', '', 'Familia Jackson', '', 'Joseph Jackson', '', '', 'Lisa Marie Presley', 'Pop', 'soul', 'rhythm and blues', 'funk', 'rock', 'Música disco', 'post-disco', 'dance pop', 'new jack swing', 'Voz', 'Tenor', '', 'Epic Records', 'Motown', 'Universal Music Group', 'Sony BMG', 'Steeltown Records', '', 'The Jackson 5', 'The Jackson 5', '', '', 'www.michaeljackson.com', '', 'editar datos en Wikidata', '[1]', 'Gary', 'Indiana', 'Los Ángeles', 'California', 'cantante', 'compositor', 'productor discográfico', 'bailarín', 'actor', 'filántropo', 'estadounidense', '[2]', '[3]', '[4]', '[5]', 'cultura popular', '[6]', 'rhythm and blues', 'soul', 'funk', 'rock', 'disco', 'dance', '[6]', 'agrupación musical', 'The Jackson 5', 'solista', 'vídeos musicales', 'Beat It', 'Billie Jean', 'Thriller', 'Thriller', 'barreras raciales', 'MTV', 'Bad', 'sencillos', \"I Just Can't Stop Loving You\", 'Bad', 'The Way You Make Me Feel', 'Man in the Mirror', 'Dirty Diana', 'Billboard Hot 100', 'Black or White', 'Scream', 'moonwalk', 'álbum más vendido de todos los tiempos', 'Off the Wall', 'Bad']\n"
     ]
    }
   ],
   "source": [
    "link6 = \"https://es.wikipedia.org/wiki/Michael_Jackson\"\n",
    "page6 = requests.get(link6)\n",
    "soup6 = BeautifulSoup(page6.content, 'html.parser')\n",
    "print(soup6.title.text)\n",
    "\n",
    "#Titulo\n",
    "Nombre6 = soup6.find_all('h1', class_= 'firstHeading')\n",
    "Nombre6\n",
    "\n",
    "Titulo6 = list()\n",
    "\n",
    "for i in Nombre6:\n",
    "    Titulo6.append(i.text)\n",
    "print(Titulo6)\n",
    "\n",
    "\n",
    "parrafo6 = soup6.find('div', class_= 'mw-parser-output').find_all('a', href =True)[0:100]\n",
    "parrafo6\n",
    "\n",
    "parrafo7 = list()\n",
    "\n",
    "for i in parrafo6:\n",
    "    parrafo7.append(i.text)\n",
    "print(parrafo7)"
   ]
  },
  {
   "cell_type": "code",
   "execution_count": 181,
   "metadata": {},
   "outputs": [
    {
     "name": "stdout",
     "output_type": "stream",
     "text": [
      "Satoru Iwata - Wikipedia, la enciclopedia libre\n",
      "['Satoru Iwata']\n",
      "['', '6 de diciembre', '1959', '', 'Sapporo', 'Japón', '', '11 de julio', '2015', '', 'Kioto', '', 'Colangiocarcinoma', '', 'Japonesa', 'Japonés', '', '', '[1]', 'Instituto Tecnológico de Tokio', '', 'Nintendo', 'Nintendo', 'HAL Laboratory', '', '', 'editar datos en Wikidata', 'caracteres especiales', 'compatibilidad de representación', 'signos de interrogación, recuadros u otros símbolos', '?', 'Sapporo', '6 de diciembre', '1959', 'Kioto', '11 de julio', '2015', 'programador', 'videojuegos', 'empresario', 'japonés', 'director ejecutivo', 'Nintendo', 'videojuegos', 'ciencias de la computación', 'Instituto Tecnológico de Tokio', 'desarrollador de videojuegos', 'HAL Laboratory', 'Nintendo', 'EarthBound', 'Kirby', 'Pokémon', 'Super Smash Bros.', 'Hiroshi Yamauchi', 'videoconsolas', 'Nintendo DS', 'Wii', 'estrategia del océano azul', 'Nintendo 3DS', 'Wii U', 'juegos para móviles', 'DeNA', 'redes sociales', 'Nintendo Direct', 'neoplasia', 'vía biliar', 'Premios Golden Joystick', 'Academy of Interactive Arts & Sciences', '1 Primeros años', '2 HAL Laboratory', '3 Nintendo', '3.1 Inicios (2000-2002)', '3.2 Revitalización de la compañía (2003-2009)', '3.2.1 Nintendo DS', '3.2.2 Wii', '3.2.3 Productos de calidad de vida', '3.3 Recesión financiera (2010-2014)', '3.4 El mercado móvil (2015)', '3.5 Relaciones públicas', '3.6 Otros proyectos', '4 Enfermedad y muerte', '5 Influencia y legado', '6 Notas y referencias', '7 Bibliografía utilizada', '8 Enlaces externos', 'editar', '', '', 'Commodore PET', 'Sapporo', '[2]', '[3]', '[4]', '[4]', 'Metro de Sapporo', '[5]', 'HP-65', '[6]', '[7]', 'Commodore PET']\n"
     ]
    }
   ],
   "source": [
    "link7 = \"https://es.wikipedia.org/wiki/Satoru_Iwata\"\n",
    "page7 = requests.get(link7)\n",
    "soup7 = BeautifulSoup(page7.content, 'html.parser')\n",
    "print(soup7.title.text)\n",
    "\n",
    "#Titulo\n",
    "Nombre7 = soup7.find_all('h1', class_= 'firstHeading')\n",
    "Nombre7\n",
    "\n",
    "Titulo7 = list()\n",
    "\n",
    "for i in Nombre7:\n",
    "    Titulo7.append(i.text)\n",
    "print(Titulo7)\n",
    "\n",
    "\n",
    "parrafo7 = soup7.find('div', class_= 'mw-parser-output').find_all('a', href =True)[0:100]\n",
    "parrafo7\n",
    "\n",
    "parrafo8 = list()\n",
    "\n",
    "for i in parrafo7:\n",
    "    parrafo8.append(i.text)\n",
    "print(parrafo8)"
   ]
  },
  {
   "cell_type": "code",
   "execution_count": 182,
   "metadata": {},
   "outputs": [
    {
     "name": "stdout",
     "output_type": "stream",
     "text": [
      "Shigeru Miyamoto - Wikipedia, la enciclopedia libre\n",
      "['Shigeru Miyamoto']\n",
      "['', '', 'Kioto', 'Japón', '[1]', '[2]', 'Diseñador de juegos', 'Nintendo', 'Donkey Kong', 'Mario', 'The Legend of Zelda', 'Pikmin', 'Star Fox', '', 'editar datos en Wikidata', '?', 'Kioto', 'Japón', '16 de noviembre', '1952', '[1]', 'diseñador', 'productor de videojuegos', 'japonés', 'Nintendo', '1977', 'videojuegos', 'Walt Disney', '[3]', 'Mario', 'Donkey Kong', 'The Legend of Zelda', 'Star Fox', 'Pikmin', 'F-Zero', 'Premio Príncipe de Asturias de Comunicación y Humanidades en el año 2012', '1 Biografía', '2 Carrera', '2.1 1977-1984: Primeros trabajos y Donkey Kong', '2.2 1985-1989: Primeras colaboraciones para una videoconsola casera', '2.3 1990-2000', '2.4 2001-2010', '2.5 2016-2019-actualidad', '3 Vida personal', '3.1 Intereses', '3.2 Familia', '3.3 Estilo de trabajo', '3.4 Opinión sobre los videojuegos', '4 Premios y reconocimientos', '5 Véase también', '6 Referencias', '7 Enlaces externos', 'editar', 'japonesa', 'Kioto', '1952', '[4]', '[5]', 'Walt Disney', '[6]', '[4]', '[7]', '[8]', 'The Legend of Zelda', 'Nintendo Entertainment System', '[9]', 'Chomp Cadenas', 'Mario', '[10]', '', '', 'Kioto', '1970', 'Diseño industrial', '[8]', 'Space Invaders', 'hacerse popular', 'arcade', 'Donkey Kong', 'Nintendo', '[5]', 'manga', 'artista de manga', '[11]', 'editar', 'editar', '1977', 'Hiroshi Yamauchi', '[8]', 'Nintendo', '[4]', '[12]', '[6]', '[5]', 'Nintendo', 'videojuego arcade', 'Sheriff', '[13]', '[6]', 'desarrollar']\n"
     ]
    }
   ],
   "source": [
    "link8 = \"https://es.wikipedia.org/wiki/Shigeru_Miyamoto\"\n",
    "page8 = requests.get(link8)\n",
    "soup8 = BeautifulSoup(page8.content, 'html.parser')\n",
    "print(soup8.title.text)\n",
    "\n",
    "#Titulo\n",
    "Nombre8 = soup8.find_all('h1', class_= 'firstHeading')\n",
    "Nombre8\n",
    "\n",
    "Titulo8 = list()\n",
    "\n",
    "for i in Nombre8:\n",
    "    Titulo8.append(i.text)\n",
    "print(Titulo8)\n",
    "\n",
    "\n",
    "parrafo8 = soup8.find('div', class_= 'mw-parser-output').find_all('a', href =True)[0:100]\n",
    "parrafo8\n",
    "\n",
    "parrafo9 = list()\n",
    "\n",
    "for i in parrafo8:\n",
    "    parrafo9.append(i.text)\n",
    "print(parrafo9)"
   ]
  },
  {
   "cell_type": "code",
   "execution_count": 183,
   "metadata": {},
   "outputs": [
    {
     "name": "stdout",
     "output_type": "stream",
     "text": [
      "John Forbes Nash - Wikipedia, la enciclopedia libre\n",
      "['John Forbes Nash']\n",
      "['John Nash', '', '13 de junio', '1928', '', 'Bluefield', 'Virginia Occidental', 'Estados Unidos', '', '23 de mayo', '2015', '', 'Municipio de Monroe', 'Nueva Jersey', '', 'Accidente de tránsito', '', 'Municipio de West Windsor', '', 'Alicia Nash', '', '', 'Instituto Tecnológico de Massachusetts', 'B.S.', 'M.S.', 'Matemáticas', 'Universidad de Princeton', 'Doc.', '', 'Albert W. Tucker', '', 'Matemático', 'economista', 'profesor universitario', '', 'Ecuación en derivadas parciales', 'teoría de juegos', 'geometría diferencial', 'economía', '', '', 'equilibrio de Nash', '', 'American Mathematical Society', 'Academia Nacional de Ciencias de los Estados Unidos', 'Academia Estadounidense de las Artes y las Ciencias', 'Sociedad Filosófica Estadounidense', 'Academia Noruega de Ciencias y Letras', '', 'Premio de Teoría John von Neumann', 'Premio del Banco de Suecia en Ciencias Económicas en memoria de Alfred Nobel', 'Premio Abel', '', 'editar datos en Wikidata', 'Bluefield', 'Virginia Occidental', '13 de junio', '1928', 'Monroe', 'Nueva Jersey', '23 de mayo', '2015', '[1]', 'matemático', 'estadounidense', 'teoría de juegos', '[2]', 'geometría diferencial', '[3]', 'ecuaciones en derivadas parciales', '[4]', 'Premio del Banco de Suecia en Ciencias Económicas en memoria de Alfred Nobel', '1994', '[5]', 'teoría de juegos', 'negociación', 'Reinhard Selten', 'John Harsanyi', '[6]', 'Premio Abel', 'A Beautiful Mind', 'Premios Óscar', 'Mejor Película', 'novela homónima', 'Sylvia Nasar', '1 Biografía', '1.1 Infancia', '1.2 Periodo de estudios', '1.3 Periodo universitario', '1.4 Enfermedad mental', '1.5 A Beautiful Mind', '1.6 Fallecimiento', '2 Premios', '3 Referencias', '4 Bibliografía', '5 Enlaces externos', 'editar', 'editar', 'Ingeniería Eléctrica', 'Francia']\n"
     ]
    }
   ],
   "source": [
    "link9 = \"https://es.wikipedia.org/wiki/John_Forbes_Nash\"\n",
    "page9 = requests.get(link9)\n",
    "soup9 = BeautifulSoup(page9.content, 'html.parser')\n",
    "print(soup9.title.text)\n",
    "\n",
    "#Titulo\n",
    "Nombre9 = soup9.find_all('h1', class_= 'firstHeading')\n",
    "Nombre9\n",
    "\n",
    "Titulo9 = list()\n",
    "\n",
    "for i in Nombre9:\n",
    "    Titulo9.append(i.text)\n",
    "print(Titulo9)\n",
    "\n",
    "\n",
    "parrafo9 = soup9.find('div', class_= 'mw-parser-output').find_all('a', href =True)[0:100]\n",
    "parrafo9\n",
    "\n",
    "parrafo10 = list()\n",
    "\n",
    "for i in parrafo9:\n",
    "    parrafo10.append(i.text)\n",
    "print(parrafo10)"
   ]
  },
  {
   "cell_type": "code",
   "execution_count": 184,
   "metadata": {},
   "outputs": [
    {
     "name": "stdout",
     "output_type": "stream",
     "text": [
      "Steven Tyler - Wikipedia, la enciclopedia libre\n",
      "['Steven Tyler']\n",
      "['', '2018', 'Yonkers', 'Nueva York', 'Estados Unidos', 'Maui', '', 'Estadounidense', 'Partido Republicano', '', 'Bebe Buell', 'Bebe Buell', 'Liv Rundgren Tyler', ' Mia Abagale Tallarico', 'Berklee College of Music', '', 'Cantante', 'Compositor', 'Músico', 'Actor', '1965', 'Rock', 'Hard rock', 'Blues rock', 'Glam metal', 'Heavy metal', 'Country', 'Voz', 'Armónica', 'Piano', 'Pandereta', 'batería', 'Tenor', 'Columbia', 'Geffen', 'Aerosmith', 'Freddie Mercury', 'Jon Bon Jovi', 'Axl Rose', 'Brian Johnson', 'Robert Plant', 'Ozzy Osbourne', 'Aerosmith', '', '', 'StevenTyler.com', 'editar datos en Wikidata', 'Yonkers', 'Nueva York', '26 de marzo', '1948', 'cantante', 'compositor', 'músico', 'actor', '[1]', 'rock', 'Aerosmith', 'American Idol', 'modelo', 'Playboy', 'Bebe Buell', 'Liv Tyler', '2008', 'Rolling Stone', '100 mejores cantantes de la historia', '[2]', '[3]', 'Hit Parader', 'Heavy metal', 'Robert Plant', 'Rob Halford', '[4]', '[5]', '2005', 'Blender', 'MTV2', '[6]', 'Roadrunner Records', '[7]', '2001', 'VH1', '[8]', 'incluido en el Salón de la Fama del Rock', 'Aerosmith', '[9]', '1 Biografía', '2 Carrera', '2.1 Formación y éxito de Aerosmith', '2.2 Reunión con Aerosmith y rehabilitación', '2.3 Regreso y superestrellato', '2.4 Periodo 2000 – 2008', '2.5 Eventos recientes', '3 Discografía', '3.1 En solitario', '3.2 Con Aerosmith', '3.3 Trabajos colaborativos', '4 Filmografía', '5 Dirico Motorcycles (anteriormente Red Wing Motorcycles)', '6 Vida personal']\n"
     ]
    }
   ],
   "source": [
    "link10 = \"https://es.wikipedia.org/wiki/Steven_Tyler\"\n",
    "page10 = requests.get(link10)\n",
    "soup10 = BeautifulSoup(page10.content, 'html.parser')\n",
    "print(soup10.title.text)\n",
    "\n",
    "#Titulo\n",
    "Nombre10 = soup10.find_all('h1', class_= 'firstHeading')\n",
    "Nombre10\n",
    "\n",
    "Titulo10 = list()\n",
    "\n",
    "for i in Nombre10:\n",
    "    Titulo10.append(i.text)\n",
    "print(Titulo10)\n",
    "\n",
    "\n",
    "parrafo10 = soup10.find('div', class_= 'mw-parser-output').find_all('a', href =True)[0:100]\n",
    "parrafo10\n",
    "\n",
    "parrafo11 = list()\n",
    "\n",
    "for i in parrafo10:\n",
    "    parrafo11.append(i.text)\n",
    "print(parrafo11)"
   ]
  },
  {
   "cell_type": "code",
   "execution_count": null,
   "metadata": {},
   "outputs": [],
   "source": []
  }
 ],
 "metadata": {
  "kernelspec": {
   "display_name": "Python 3",
   "language": "python",
   "name": "python3"
  },
  "language_info": {
   "codemirror_mode": {
    "name": "ipython",
    "version": 3
   },
   "file_extension": ".py",
   "mimetype": "text/x-python",
   "name": "python",
   "nbconvert_exporter": "python",
   "pygments_lexer": "ipython3",
   "version": "3.7.6"
  }
 },
 "nbformat": 4,
 "nbformat_minor": 4
}
